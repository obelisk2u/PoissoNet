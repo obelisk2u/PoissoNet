{
 "cells": [
  {
   "cell_type": "markdown",
   "id": "86345d9e",
   "metadata": {},
   "source": [
    "# 🌀 PoissoNet: Pressure Field Approximation with Neural Networks\n",
    "\n",
    "This notebook walks through the data generation process for **PoissoNet**, a project focused on learning fast approximations of pressure fields in 2D incompressible fluid flow using neural networks.\n",
    "\n",
    "We generate synthetic CFD data by solving the pressure Poisson equation on a 2D grid with various obstacle geometries, and store the resulting pressure and RHS fields in `.npz` files for model training."
   ]
  }
 ],
 "metadata": {
  "language_info": {
   "name": "python"
  }
 },
 "nbformat": 4,
 "nbformat_minor": 5
}
